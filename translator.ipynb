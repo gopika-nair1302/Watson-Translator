{
 "cells": [
  {
   "cell_type": "code",
   "execution_count": 1,
   "id": "247d8ae7",
   "metadata": {},
   "outputs": [
    {
     "ename": "ValueError",
     "evalue": "The apikey shouldn't be None.",
     "output_type": "error",
     "traceback": [
      "\u001b[1;31m---------------------------------------------------------------------------\u001b[0m",
      "\u001b[1;31mValueError\u001b[0m                                Traceback (most recent call last)",
      "Input \u001b[1;32mIn [1]\u001b[0m, in \u001b[0;36m<cell line: 13>\u001b[1;34m()\u001b[0m\n\u001b[0;32m     10\u001b[0m API_KEY \u001b[38;5;241m=\u001b[39m os\u001b[38;5;241m.\u001b[39mgetenv(\u001b[38;5;124m'\u001b[39m\u001b[38;5;124mmTI-I2dBG8ijfvXDzhigJ7uHS3z4N7Hh0S8q7v_5-CR6\u001b[39m\u001b[38;5;124m'\u001b[39m)\n\u001b[0;32m     11\u001b[0m URL\u001b[38;5;241m=\u001b[39m os\u001b[38;5;241m.\u001b[39mgetenv(\u001b[38;5;124m'\u001b[39m\u001b[38;5;124mhttps://api.jp-tok.language-translator.watson.cloud.ibm.com/instances/68cff5a8-59b3-43b1-bf41-20cb6747d4e0\u001b[39m\u001b[38;5;124m'\u001b[39m)\n\u001b[1;32m---> 13\u001b[0m authenticator \u001b[38;5;241m=\u001b[39m \u001b[43mIAMAuthenticator\u001b[49m\u001b[43m(\u001b[49m\u001b[43mAPI_KEY\u001b[49m\u001b[43m)\u001b[49m\n\u001b[0;32m     14\u001b[0m language_translator \u001b[38;5;241m=\u001b[39m LanguageTranslatorV3(\n\u001b[0;32m     15\u001b[0m     version\u001b[38;5;241m=\u001b[39m\u001b[38;5;124m'\u001b[39m\u001b[38;5;124m2018-05-01\u001b[39m\u001b[38;5;124m'\u001b[39m,\n\u001b[0;32m     16\u001b[0m     authenticator\u001b[38;5;241m=\u001b[39mauthenticator\n\u001b[0;32m     17\u001b[0m )\n\u001b[0;32m     19\u001b[0m language_translator\u001b[38;5;241m.\u001b[39mset_service_url(URL)\n",
      "File \u001b[1;32m~\\anaconda3\\lib\\site-packages\\ibm_cloud_sdk_core\\authenticators\\iam_authenticator.py:86\u001b[0m, in \u001b[0;36mIAMAuthenticator.__init__\u001b[1;34m(self, apikey, url, client_id, client_secret, disable_ssl_verification, headers, proxies, scope)\u001b[0m\n\u001b[0;32m     73\u001b[0m     \u001b[38;5;28;01mraise\u001b[39;00m \u001b[38;5;167;01mTypeError\u001b[39;00m(\u001b[38;5;124m'\u001b[39m\u001b[38;5;124mdisable_ssl_verification must be a bool\u001b[39m\u001b[38;5;124m'\u001b[39m)\n\u001b[0;32m     75\u001b[0m \u001b[38;5;28mself\u001b[39m\u001b[38;5;241m.\u001b[39mtoken_manager \u001b[38;5;241m=\u001b[39m IAMTokenManager(\n\u001b[0;32m     76\u001b[0m     apikey,\n\u001b[0;32m     77\u001b[0m     url\u001b[38;5;241m=\u001b[39murl,\n\u001b[1;32m   (...)\u001b[0m\n\u001b[0;32m     83\u001b[0m     scope\u001b[38;5;241m=\u001b[39mscope,\n\u001b[0;32m     84\u001b[0m )\n\u001b[1;32m---> 86\u001b[0m \u001b[38;5;28;43mself\u001b[39;49m\u001b[38;5;241;43m.\u001b[39;49m\u001b[43mvalidate\u001b[49m\u001b[43m(\u001b[49m\u001b[43m)\u001b[49m\n",
      "File \u001b[1;32m~\\anaconda3\\lib\\site-packages\\ibm_cloud_sdk_core\\authenticators\\iam_authenticator.py:104\u001b[0m, in \u001b[0;36mIAMAuthenticator.validate\u001b[1;34m(self)\u001b[0m\n\u001b[0;32m    101\u001b[0m \u001b[38;5;28msuper\u001b[39m()\u001b[38;5;241m.\u001b[39mvalidate()\n\u001b[0;32m    103\u001b[0m \u001b[38;5;28;01mif\u001b[39;00m \u001b[38;5;28mself\u001b[39m\u001b[38;5;241m.\u001b[39mtoken_manager\u001b[38;5;241m.\u001b[39mapikey \u001b[38;5;129;01mis\u001b[39;00m \u001b[38;5;28;01mNone\u001b[39;00m:\n\u001b[1;32m--> 104\u001b[0m     \u001b[38;5;28;01mraise\u001b[39;00m \u001b[38;5;167;01mValueError\u001b[39;00m(\u001b[38;5;124m'\u001b[39m\u001b[38;5;124mThe apikey shouldn\u001b[39m\u001b[38;5;130;01m\\'\u001b[39;00m\u001b[38;5;124mt be None.\u001b[39m\u001b[38;5;124m'\u001b[39m)\n\u001b[0;32m    106\u001b[0m \u001b[38;5;28;01mif\u001b[39;00m has_bad_first_or_last_char(\u001b[38;5;28mself\u001b[39m\u001b[38;5;241m.\u001b[39mtoken_manager\u001b[38;5;241m.\u001b[39mapikey):\n\u001b[0;32m    107\u001b[0m     \u001b[38;5;28;01mraise\u001b[39;00m \u001b[38;5;167;01mValueError\u001b[39;00m(\n\u001b[0;32m    108\u001b[0m         \u001b[38;5;124m'\u001b[39m\u001b[38;5;124mThe apikey shouldn\u001b[39m\u001b[38;5;130;01m\\'\u001b[39;00m\u001b[38;5;124mt start or end with curly brackets or quotes. \u001b[39m\u001b[38;5;124m'\u001b[39m\n\u001b[0;32m    109\u001b[0m         \u001b[38;5;124m'\u001b[39m\u001b[38;5;124mPlease remove any surrounding \u001b[39m\u001b[38;5;124m{\u001b[39m\u001b[38;5;124m, }, or \u001b[39m\u001b[38;5;130;01m\\\"\u001b[39;00m\u001b[38;5;124m characters.\u001b[39m\u001b[38;5;124m'\u001b[39m\n\u001b[0;32m    110\u001b[0m     )\n",
      "\u001b[1;31mValueError\u001b[0m: The apikey shouldn't be None."
     ]
    }
   ],
   "source": [
    "'''Functions to translate from English to French and German'''\n",
    "\n",
    "from ibm_watson import LanguageTranslatorV3\n",
    "from ibm_cloud_sdk_core.authenticators import IAMAuthenticator\n",
    "import os\n",
    "from dotenv import load_dotenv\n",
    "\n",
    "load_dotenv()\n",
    "\n",
    "API_KEY = os.getenv('mTI-I2dBG8ijfvXDzhigJ7uHS3z4N7Hh0S8q7v_5-CR6')\n",
    "URL= os.getenv('https://api.jp-tok.language-translator.watson.cloud.ibm.com/instances/68cff5a8-59b3-43b1-bf41-20cb6747d4e0')\n",
    "\n",
    "authenticator = IAMAuthenticator(API_KEY)\n",
    "language_translator = LanguageTranslatorV3(\n",
    "    version='2018-05-01',\n",
    "    authenticator=authenticator\n",
    ")\n",
    "\n",
    "language_translator.set_service_url(URL)\n",
    "\n",
    "def englishtofrench(english):\n",
    "    '''\n",
    "    Translate English to French\n",
    "    '''\n",
    "    translation = language_translator.translate(\n",
    "    text=english,\n",
    "    model_id='en-fr').get_result()\n",
    "    french_translation = translation['translations'][0]['translation']\n",
    "    return french_translation\n",
    "\n",
    "def frenchtoenglish(english):\n",
    "    '''\n",
    "    Translates French to English\n",
    "    '''\n",
    "    translation = language_translator.translate(\n",
    "    text=english,\n",
    "    model_id='fr-en').get_result()\n",
    "    english_translation = translation['translations'][0]['translation']\n",
    "    return english_translation"
   ]
  },
  {
   "cell_type": "code",
   "execution_count": null,
   "id": "c99f459c",
   "metadata": {},
   "outputs": [],
   "source": []
  }
 ],
 "metadata": {
  "kernelspec": {
   "display_name": "Python 3 (ipykernel)",
   "language": "python",
   "name": "python3"
  },
  "language_info": {
   "codemirror_mode": {
    "name": "ipython",
    "version": 3
   },
   "file_extension": ".py",
   "mimetype": "text/x-python",
   "name": "python",
   "nbconvert_exporter": "python",
   "pygments_lexer": "ipython3",
   "version": "3.9.13"
  }
 },
 "nbformat": 4,
 "nbformat_minor": 5
}
