{
 "cells": [
  {
   "cell_type": "code",
   "execution_count": 1,
   "id": "f16ba322",
   "metadata": {},
   "outputs": [
    {
     "ename": "ValueError",
     "evalue": "The apikey shouldn't be None.",
     "output_type": "error",
     "traceback": [
      "\u001b[1;31m---------------------------------------------------------------------------\u001b[0m",
      "\u001b[1;31mValueError\u001b[0m                                Traceback (most recent call last)",
      "Input \u001b[1;32mIn [1]\u001b[0m, in \u001b[0;36m<cell line: 5>\u001b[1;34m()\u001b[0m\n\u001b[0;32m      1\u001b[0m \u001b[38;5;124;03m'''Tests for translation modules'''\u001b[39;00m\n\u001b[0;32m      3\u001b[0m \u001b[38;5;28;01mimport\u001b[39;00m \u001b[38;5;21;01munittest\u001b[39;00m\n\u001b[1;32m----> 5\u001b[0m \u001b[38;5;28;01mfrom\u001b[39;00m \u001b[38;5;21;01mtranslator\u001b[39;00m \u001b[38;5;28;01mimport\u001b[39;00m englishtofrench, englishtogerman\n\u001b[0;32m      7\u001b[0m \u001b[38;5;28;01mclass\u001b[39;00m \u001b[38;5;21;01mTestEnglishtofrench\u001b[39;00m(unittest\u001b[38;5;241m.\u001b[39mTestCase):\n\u001b[0;32m      8\u001b[0m     \u001b[38;5;124;03m'''Tests English to French function'''\u001b[39;00m\n",
      "File \u001b[1;32m~\\Desktop\\cb106-AIWatsonLab\\translator.py:13\u001b[0m, in \u001b[0;36m<module>\u001b[1;34m\u001b[0m\n\u001b[0;32m     10\u001b[0m API_KEY \u001b[38;5;241m=\u001b[39m os\u001b[38;5;241m.\u001b[39mgetenv(\u001b[38;5;124m'\u001b[39m\u001b[38;5;124mAPI_KEY\u001b[39m\u001b[38;5;124m'\u001b[39m)\n\u001b[0;32m     11\u001b[0m URL\u001b[38;5;241m=\u001b[39m os\u001b[38;5;241m.\u001b[39mgetenv(\u001b[38;5;124m'\u001b[39m\u001b[38;5;124mURL\u001b[39m\u001b[38;5;124m'\u001b[39m)\n\u001b[1;32m---> 13\u001b[0m authenticator \u001b[38;5;241m=\u001b[39m \u001b[43mIAMAuthenticator\u001b[49m\u001b[43m(\u001b[49m\u001b[43mAPI_KEY\u001b[49m\u001b[43m)\u001b[49m\n\u001b[0;32m     14\u001b[0m language_translator \u001b[38;5;241m=\u001b[39m LanguageTranslatorV3(\n\u001b[0;32m     15\u001b[0m     version\u001b[38;5;241m=\u001b[39m\u001b[38;5;124m'\u001b[39m\u001b[38;5;124m2018-05-01\u001b[39m\u001b[38;5;124m'\u001b[39m,\n\u001b[0;32m     16\u001b[0m     authenticator\u001b[38;5;241m=\u001b[39mauthenticator\n\u001b[0;32m     17\u001b[0m )\n\u001b[0;32m     19\u001b[0m language_translator\u001b[38;5;241m.\u001b[39mset_service_url(URL)\n",
      "File \u001b[1;32m~\\anaconda3\\lib\\site-packages\\ibm_cloud_sdk_core\\authenticators\\iam_authenticator.py:86\u001b[0m, in \u001b[0;36mIAMAuthenticator.__init__\u001b[1;34m(self, apikey, url, client_id, client_secret, disable_ssl_verification, headers, proxies, scope)\u001b[0m\n\u001b[0;32m     73\u001b[0m     \u001b[38;5;28;01mraise\u001b[39;00m \u001b[38;5;167;01mTypeError\u001b[39;00m(\u001b[38;5;124m'\u001b[39m\u001b[38;5;124mdisable_ssl_verification must be a bool\u001b[39m\u001b[38;5;124m'\u001b[39m)\n\u001b[0;32m     75\u001b[0m \u001b[38;5;28mself\u001b[39m\u001b[38;5;241m.\u001b[39mtoken_manager \u001b[38;5;241m=\u001b[39m IAMTokenManager(\n\u001b[0;32m     76\u001b[0m     apikey,\n\u001b[0;32m     77\u001b[0m     url\u001b[38;5;241m=\u001b[39murl,\n\u001b[1;32m   (...)\u001b[0m\n\u001b[0;32m     83\u001b[0m     scope\u001b[38;5;241m=\u001b[39mscope,\n\u001b[0;32m     84\u001b[0m )\n\u001b[1;32m---> 86\u001b[0m \u001b[38;5;28;43mself\u001b[39;49m\u001b[38;5;241;43m.\u001b[39;49m\u001b[43mvalidate\u001b[49m\u001b[43m(\u001b[49m\u001b[43m)\u001b[49m\n",
      "File \u001b[1;32m~\\anaconda3\\lib\\site-packages\\ibm_cloud_sdk_core\\authenticators\\iam_authenticator.py:104\u001b[0m, in \u001b[0;36mIAMAuthenticator.validate\u001b[1;34m(self)\u001b[0m\n\u001b[0;32m    101\u001b[0m \u001b[38;5;28msuper\u001b[39m()\u001b[38;5;241m.\u001b[39mvalidate()\n\u001b[0;32m    103\u001b[0m \u001b[38;5;28;01mif\u001b[39;00m \u001b[38;5;28mself\u001b[39m\u001b[38;5;241m.\u001b[39mtoken_manager\u001b[38;5;241m.\u001b[39mapikey \u001b[38;5;129;01mis\u001b[39;00m \u001b[38;5;28;01mNone\u001b[39;00m:\n\u001b[1;32m--> 104\u001b[0m     \u001b[38;5;28;01mraise\u001b[39;00m \u001b[38;5;167;01mValueError\u001b[39;00m(\u001b[38;5;124m'\u001b[39m\u001b[38;5;124mThe apikey shouldn\u001b[39m\u001b[38;5;130;01m\\'\u001b[39;00m\u001b[38;5;124mt be None.\u001b[39m\u001b[38;5;124m'\u001b[39m)\n\u001b[0;32m    106\u001b[0m \u001b[38;5;28;01mif\u001b[39;00m has_bad_first_or_last_char(\u001b[38;5;28mself\u001b[39m\u001b[38;5;241m.\u001b[39mtoken_manager\u001b[38;5;241m.\u001b[39mapikey):\n\u001b[0;32m    107\u001b[0m     \u001b[38;5;28;01mraise\u001b[39;00m \u001b[38;5;167;01mValueError\u001b[39;00m(\n\u001b[0;32m    108\u001b[0m         \u001b[38;5;124m'\u001b[39m\u001b[38;5;124mThe apikey shouldn\u001b[39m\u001b[38;5;130;01m\\'\u001b[39;00m\u001b[38;5;124mt start or end with curly brackets or quotes. \u001b[39m\u001b[38;5;124m'\u001b[39m\n\u001b[0;32m    109\u001b[0m         \u001b[38;5;124m'\u001b[39m\u001b[38;5;124mPlease remove any surrounding \u001b[39m\u001b[38;5;124m{\u001b[39m\u001b[38;5;124m, }, or \u001b[39m\u001b[38;5;130;01m\\\"\u001b[39;00m\u001b[38;5;124m characters.\u001b[39m\u001b[38;5;124m'\u001b[39m\n\u001b[0;32m    110\u001b[0m     )\n",
      "\u001b[1;31mValueError\u001b[0m: The apikey shouldn't be None."
     ]
    }
   ],
   "source": [
    "'''Tests for translation modules'''\n",
    "\n",
    "import unittest\n",
    "\n",
    "from translator import englishtofrench, frenchtoenglish\n",
    "\n",
    "class TestEnglishtofrench(unittest.TestCase):\n",
    "    '''Tests English to French function'''\n",
    "    def test1(self):\n",
    "        '''Tests null, hello and snake translations'''\n",
    "        self.assertEqual(englishtofrench(None), '')\n",
    "        self.assertEqual(englishtofrench('Hello'), 'Bonjour')\n",
    "        self.assertEqual(englishtofrench('snake'), 'serpent')\n",
    "\n",
    "class TestFrenchtoenglish(unittest.TestCase):\n",
    "    '''Tests French to English function'''\n",
    "    def test1(self):\n",
    "        '''Tests null, hello and snake translations'''\n",
    "        self.assertEqual(frenchtoenglish(None), '')\n",
    "        self.assertEqual(frenchtoenglish('Bonjour'), 'Hello')\n",
    "        self.assertEqual(frenchtoenglish('serpent'), 'snake')\n",
    "\n",
    "unittest.main()"
   ]
  },
  {
   "cell_type": "code",
   "execution_count": null,
   "id": "25096fed",
   "metadata": {},
   "outputs": [],
   "source": []
  }
 ],
 "metadata": {
  "kernelspec": {
   "display_name": "Python 3 (ipykernel)",
   "language": "python",
   "name": "python3"
  },
  "language_info": {
   "codemirror_mode": {
    "name": "ipython",
    "version": 3
   },
   "file_extension": ".py",
   "mimetype": "text/x-python",
   "name": "python",
   "nbconvert_exporter": "python",
   "pygments_lexer": "ipython3",
   "version": "3.9.13"
  }
 },
 "nbformat": 4,
 "nbformat_minor": 5
}
